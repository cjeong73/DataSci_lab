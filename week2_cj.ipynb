{
 "cells": [
  {
   "cell_type": "markdown",
   "id": "84dc11c1-8f01-49fc-9a84-95ff7d582633",
   "metadata": {},
   "source": [
    "# My Jupyter Notebook on IBM Watson Studio"
   ]
  },
  {
   "cell_type": "markdown",
   "id": "d6806adb-3dea-4c7a-8cc7-2d909a1de165",
   "metadata": {},
   "source": [
    "**Cheol Jeong**\\\n",
    "Data scientist\n"
   ]
  },
  {
   "cell_type": "markdown",
   "id": "66dc8a84-2e5a-4bf7-9c54-c7ca5a49adc0",
   "metadata": {},
   "source": [
    "*I am a computational chemist and interested in data science because I want to find another opportunity in data science.*"
   ]
  },
  {
   "cell_type": "markdown",
   "id": "7041ff08-26b6-44c7-a9a8-dc71cc9a83e2",
   "metadata": {},
   "source": [
    "### Sorting an integer array with numpy "
   ]
  },
  {
   "cell_type": "code",
   "execution_count": 9,
   "id": "0e9fcd7b-f3d0-42e8-b342-76cb3a47fe9c",
   "metadata": {},
   "outputs": [
    {
     "name": "stdout",
     "output_type": "stream",
     "text": [
      "[-1  1  2  3  5  9 10]\n"
     ]
    }
   ],
   "source": [
    "import numpy as np\n",
    "my_arr = np.array([9,5,1,3,-1,2,10])\n",
    "print(np.sort(my_arr))"
   ]
  },
  {
   "cell_type": "markdown",
   "id": "ceb414ad-f235-45e1-8f7e-b0add4d02d7f",
   "metadata": {},
   "source": [
    "### Top 3 Covid Cases in US States as of Nov. 2 2022 ###\n",
    "\n",
    "```including syntax hightling, hyperlink, and table```\n",
    "\n",
    "https://www.worldometers.info/coronavirus/country/us/ \n",
    "\n",
    "| #| USA state | New Cases | New Daths |\n",
    "|---|---|---|---|\n",
    "| 1 | New York | +3.531 | +36|\n",
    "| 2 | Texas | +2,504| +19|\n",
    "| 3 | new Jersey | +2,107| +9|"
   ]
  },
  {
   "cell_type": "code",
   "execution_count": null,
   "id": "c8dd3ccc-7cfd-4022-b502-620a27b95661",
   "metadata": {},
   "outputs": [],
   "source": []
  }
 ],
 "metadata": {
  "kernelspec": {
   "display_name": "Python",
   "language": "python",
   "name": "conda-env-python-py"
  },
  "language_info": {
   "codemirror_mode": {
    "name": "ipython",
    "version": 3
   },
   "file_extension": ".py",
   "mimetype": "text/x-python",
   "name": "python",
   "nbconvert_exporter": "python",
   "pygments_lexer": "ipython3",
   "version": "3.7.12"
  }
 },
 "nbformat": 4,
 "nbformat_minor": 5
}
